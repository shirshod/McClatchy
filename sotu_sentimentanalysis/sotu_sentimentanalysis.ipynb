{
 "cells": [
  {
   "cell_type": "markdown",
   "metadata": {},
   "source": [
    "## State of the Union (2009-2022): Sentiment Analysis\n",
    "\n",
    "By: Shirsho Dasgupta (2022)"
   ]
  },
  {
   "cell_type": "markdown",
   "metadata": {},
   "source": [
    "#### Notes: \n",
    "\n",
    "The code reads the text of every State of the Union speech from 2009 to 2022 and performs sentiment analysis on them using the NRC Word-Emotion Association Lexicon (EmoLex). \n",
    "\n",
    "The NRC Emotion Lexicon is a list of English words and their associations with eight basic emotions (anger, fear, anticipation, trust, surprise, sadness, joy, and disgust) and two sentiments (negative and positive). The annotations were manually done by crowdsourcing.\n",
    "\n",
    "The code matches the words in the speeches to that of the dictionary then adds up the factor of the emotion. \n",
    "\n",
    "Since EmoLex is, at the end of the day, crowdsourced and finite, there might be some words which are outside its scope or some nuances which are not accounted for (the code performs word-to-word comparison). The analysis is always at best an approximation. \n",
    "\n",
    "#### Sources:\n",
    "\n",
    "State of the Union Archived Speeches at University of California, Santa Barbara: https://www.presidency.ucsb.edu/documents/presidential-documents-archive-guidebook/annual-messages-congress-the-state-the-union\n",
    "\n",
    "NRC Emotion Lexicon: http://saifmohammad.com/WebPages/NRC-Emotion-Lexicon.htm"
   ]
  },
  {
   "cell_type": "markdown",
   "metadata": {},
   "source": [
    "### Importing libraries"
   ]
  },
  {
   "cell_type": "code",
   "execution_count": 1,
   "metadata": {},
   "outputs": [],
   "source": [
    "import pandas as pd\n",
    "%matplotlib inline"
   ]
  },
  {
   "cell_type": "markdown",
   "metadata": {},
   "source": [
    "### Creating dataframe of speeches"
   ]
  },
  {
   "cell_type": "markdown",
   "metadata": {},
   "source": [
    "#### Importing SOTU speeches"
   ]
  },
  {
   "cell_type": "code",
   "execution_count": 2,
   "metadata": {},
   "outputs": [],
   "source": [
    "import glob\n",
    "\n",
    "filenames = glob.glob(\"sotu/*\")"
   ]
  },
  {
   "cell_type": "code",
   "execution_count": 3,
   "metadata": {},
   "outputs": [
    {
     "data": {
      "text/plain": [
       "14"
      ]
     },
     "execution_count": 3,
     "metadata": {},
     "output_type": "execute_result"
    }
   ],
   "source": [
    "speeches = [open(filename).read() for filename in filenames]\n",
    "len(speeches)"
   ]
  },
  {
   "cell_type": "markdown",
   "metadata": {},
   "source": [
    "#### Storing SOTU speeches in one dataframe"
   ]
  },
  {
   "cell_type": "code",
   "execution_count": 4,
   "metadata": {},
   "outputs": [
    {
     "data": {
      "text/html": [
       "<div>\n",
       "<style scoped>\n",
       "    .dataframe tbody tr th:only-of-type {\n",
       "        vertical-align: middle;\n",
       "    }\n",
       "\n",
       "    .dataframe tbody tr th {\n",
       "        vertical-align: top;\n",
       "    }\n",
       "\n",
       "    .dataframe thead th {\n",
       "        text-align: right;\n",
       "    }\n",
       "</style>\n",
       "<table border=\"1\" class=\"dataframe\">\n",
       "  <thead>\n",
       "    <tr style=\"text-align: right;\">\n",
       "      <th></th>\n",
       "      <th>text</th>\n",
       "      <th>filename</th>\n",
       "    </tr>\n",
       "  </thead>\n",
       "  <tbody>\n",
       "    <tr>\n",
       "      <th>0</th>\n",
       "      <td>Madam Speaker, Madam Vice President—no Preside...</td>\n",
       "      <td>sotu/04-28-2021.txt</td>\n",
       "    </tr>\n",
       "    <tr>\n",
       "      <th>1</th>\n",
       "      <td>Madam Speaker, Vice President Biden, Members o...</td>\n",
       "      <td>sotu/01-27-2010.txt</td>\n",
       "    </tr>\n",
       "    <tr>\n",
       "      <th>2</th>\n",
       "      <td>Mr. Speaker, Mr. Vice President, Members of Co...</td>\n",
       "      <td>sotu/01-12-2016.txt</td>\n",
       "    </tr>\n",
       "  </tbody>\n",
       "</table>\n",
       "</div>"
      ],
      "text/plain": [
       "                                                text             filename\n",
       "0  Madam Speaker, Madam Vice President—no Preside...  sotu/04-28-2021.txt\n",
       "1  Madam Speaker, Vice President Biden, Members o...  sotu/01-27-2010.txt\n",
       "2  Mr. Speaker, Mr. Vice President, Members of Co...  sotu/01-12-2016.txt"
      ]
     },
     "execution_count": 4,
     "metadata": {},
     "output_type": "execute_result"
    }
   ],
   "source": [
    "### stores entire text of speech under one column and the associated filename under another\n",
    "speeches_df = pd.DataFrame({\"text\": speeches, \"filename\": filenames})\n",
    "speeches_df.head(3)"
   ]
  },
  {
   "cell_type": "code",
   "execution_count": 5,
   "metadata": {},
   "outputs": [],
   "source": [
    "### creates two new columns to store year and name of president\n",
    "speeches_df[\"year\"] = \" \"\n",
    "speeches_df[\"pres\"] = \" \"\n",
    "\n",
    "### loop runs through dataframe\n",
    "for i in range(0, len(speeches_df)):\n",
    "    \n",
    "    ### extracts (from filename) and stores year of speech\n",
    "    speeches_df[\"year\"][i] = int(speeches_df[\"filename\"][i][-8:-4])\n",
    "    x = speeches_df[\"year\"][i]\n",
    "    \n",
    "    ### condition checks what year the speech was delivered and stores the name of the president accordingly\n",
    "    if (x >= 2009) & (x <= 2016):\n",
    "        speeches_df[\"pres\"][i] = \"obama\"\n",
    "    elif (x >= 2017) & (x <= 2020):\n",
    "        speeches_df[\"pres\"][i] = \"trump\"\n",
    "    elif (x > 2020):\n",
    "        speeches_df[\"pres\"][i] = \"biden\""
   ]
  },
  {
   "cell_type": "code",
   "execution_count": 6,
   "metadata": {},
   "outputs": [
    {
     "data": {
      "text/html": [
       "<div>\n",
       "<style scoped>\n",
       "    .dataframe tbody tr th:only-of-type {\n",
       "        vertical-align: middle;\n",
       "    }\n",
       "\n",
       "    .dataframe tbody tr th {\n",
       "        vertical-align: top;\n",
       "    }\n",
       "\n",
       "    .dataframe thead th {\n",
       "        text-align: right;\n",
       "    }\n",
       "</style>\n",
       "<table border=\"1\" class=\"dataframe\">\n",
       "  <thead>\n",
       "    <tr style=\"text-align: right;\">\n",
       "      <th></th>\n",
       "      <th>text</th>\n",
       "      <th>filename</th>\n",
       "      <th>year</th>\n",
       "      <th>pres</th>\n",
       "    </tr>\n",
       "  </thead>\n",
       "  <tbody>\n",
       "    <tr>\n",
       "      <th>0</th>\n",
       "      <td>Madam Speaker, Madam Vice President—no Preside...</td>\n",
       "      <td>sotu/04-28-2021.txt</td>\n",
       "      <td>2021</td>\n",
       "      <td>biden</td>\n",
       "    </tr>\n",
       "    <tr>\n",
       "      <th>1</th>\n",
       "      <td>Madam Speaker, Vice President Biden, Members o...</td>\n",
       "      <td>sotu/01-27-2010.txt</td>\n",
       "      <td>2010</td>\n",
       "      <td>obama</td>\n",
       "    </tr>\n",
       "    <tr>\n",
       "      <th>2</th>\n",
       "      <td>Mr. Speaker, Mr. Vice President, Members of Co...</td>\n",
       "      <td>sotu/01-12-2016.txt</td>\n",
       "      <td>2016</td>\n",
       "      <td>obama</td>\n",
       "    </tr>\n",
       "    <tr>\n",
       "      <th>3</th>\n",
       "      <td>Madam Speaker, Mr. Vice President, Members of ...</td>\n",
       "      <td>sotu/02-24-2009.txt</td>\n",
       "      <td>2009</td>\n",
       "      <td>obama</td>\n",
       "    </tr>\n",
       "    <tr>\n",
       "      <th>4</th>\n",
       "      <td>Mr. Speaker, Mr. Vice President, Members of Co...</td>\n",
       "      <td>sotu/01-20-2015.txt</td>\n",
       "      <td>2015</td>\n",
       "      <td>obama</td>\n",
       "    </tr>\n",
       "    <tr>\n",
       "      <th>5</th>\n",
       "      <td>Mr. Speaker, Mr. Vice President, Members of Co...</td>\n",
       "      <td>sotu/02-12-2013.txt</td>\n",
       "      <td>2013</td>\n",
       "      <td>obama</td>\n",
       "    </tr>\n",
       "    <tr>\n",
       "      <th>6</th>\n",
       "      <td>Thank you very much. Mr. Speaker, Mr. Vice Pre...</td>\n",
       "      <td>sotu/02-28-2017.txt</td>\n",
       "      <td>2017</td>\n",
       "      <td>trump</td>\n",
       "    </tr>\n",
       "    <tr>\n",
       "      <th>7</th>\n",
       "      <td>Mr. Speaker, Mr. Vice President, Members of Co...</td>\n",
       "      <td>sotu/02-05-2019.txt</td>\n",
       "      <td>2019</td>\n",
       "      <td>trump</td>\n",
       "    </tr>\n",
       "    <tr>\n",
       "      <th>8</th>\n",
       "      <td>Mr. Speaker, Mr. Vice President, Members of Co...</td>\n",
       "      <td>sotu/01-25-2011.txt</td>\n",
       "      <td>2011</td>\n",
       "      <td>obama</td>\n",
       "    </tr>\n",
       "    <tr>\n",
       "      <th>9</th>\n",
       "      <td>Madam Speaker, Mr. Vice President, Members of ...</td>\n",
       "      <td>sotu/02-04-2020.txt</td>\n",
       "      <td>2020</td>\n",
       "      <td>trump</td>\n",
       "    </tr>\n",
       "    <tr>\n",
       "      <th>10</th>\n",
       "      <td>Mr. Speaker, Mr. Vice President, Members of Co...</td>\n",
       "      <td>sotu/01-24-2012.txt</td>\n",
       "      <td>2012</td>\n",
       "      <td>obama</td>\n",
       "    </tr>\n",
       "    <tr>\n",
       "      <th>11</th>\n",
       "      <td>Madam Speaker, Madam Vice President, and our F...</td>\n",
       "      <td>sotu/03-01-2022.txt</td>\n",
       "      <td>2022</td>\n",
       "      <td>biden</td>\n",
       "    </tr>\n",
       "    <tr>\n",
       "      <th>12</th>\n",
       "      <td>Mr. Speaker, Mr. Vice President, Members of Co...</td>\n",
       "      <td>sotu/01-28-2014.txt</td>\n",
       "      <td>2014</td>\n",
       "      <td>obama</td>\n",
       "    </tr>\n",
       "    <tr>\n",
       "      <th>13</th>\n",
       "      <td>Mr. Speaker, Mr. Vice President, Members of Co...</td>\n",
       "      <td>sotu/01-30-2018.txt</td>\n",
       "      <td>2018</td>\n",
       "      <td>trump</td>\n",
       "    </tr>\n",
       "  </tbody>\n",
       "</table>\n",
       "</div>"
      ],
      "text/plain": [
       "                                                 text             filename  \\\n",
       "0   Madam Speaker, Madam Vice President—no Preside...  sotu/04-28-2021.txt   \n",
       "1   Madam Speaker, Vice President Biden, Members o...  sotu/01-27-2010.txt   \n",
       "2   Mr. Speaker, Mr. Vice President, Members of Co...  sotu/01-12-2016.txt   \n",
       "3   Madam Speaker, Mr. Vice President, Members of ...  sotu/02-24-2009.txt   \n",
       "4   Mr. Speaker, Mr. Vice President, Members of Co...  sotu/01-20-2015.txt   \n",
       "5   Mr. Speaker, Mr. Vice President, Members of Co...  sotu/02-12-2013.txt   \n",
       "6   Thank you very much. Mr. Speaker, Mr. Vice Pre...  sotu/02-28-2017.txt   \n",
       "7   Mr. Speaker, Mr. Vice President, Members of Co...  sotu/02-05-2019.txt   \n",
       "8   Mr. Speaker, Mr. Vice President, Members of Co...  sotu/01-25-2011.txt   \n",
       "9   Madam Speaker, Mr. Vice President, Members of ...  sotu/02-04-2020.txt   \n",
       "10  Mr. Speaker, Mr. Vice President, Members of Co...  sotu/01-24-2012.txt   \n",
       "11  Madam Speaker, Madam Vice President, and our F...  sotu/03-01-2022.txt   \n",
       "12  Mr. Speaker, Mr. Vice President, Members of Co...  sotu/01-28-2014.txt   \n",
       "13  Mr. Speaker, Mr. Vice President, Members of Co...  sotu/01-30-2018.txt   \n",
       "\n",
       "    year   pres  \n",
       "0   2021  biden  \n",
       "1   2010  obama  \n",
       "2   2016  obama  \n",
       "3   2009  obama  \n",
       "4   2015  obama  \n",
       "5   2013  obama  \n",
       "6   2017  trump  \n",
       "7   2019  trump  \n",
       "8   2011  obama  \n",
       "9   2020  trump  \n",
       "10  2012  obama  \n",
       "11  2022  biden  \n",
       "12  2014  obama  \n",
       "13  2018  trump  "
      ]
     },
     "execution_count": 6,
     "metadata": {},
     "output_type": "execute_result"
    }
   ],
   "source": [
    "### displays final master dataframe\n",
    "speeches_df"
   ]
  },
  {
   "cell_type": "markdown",
   "metadata": {},
   "source": [
    "#### Creating separate dataframes for each president"
   ]
  },
  {
   "cell_type": "code",
   "execution_count": 7,
   "metadata": {},
   "outputs": [],
   "source": [
    "### filters by name of president and stores in separate dataframes\n",
    "speeches_df_obama = speeches_df[speeches_df[\"pres\"] == \"obama\"] \n",
    "speeches_df_trump = speeches_df[speeches_df[\"pres\"] == \"trump\"] \n",
    "speeches_df_biden = speeches_df[speeches_df[\"pres\"] == \"biden\"] "
   ]
  },
  {
   "cell_type": "markdown",
   "metadata": {},
   "source": [
    "### Sentiment analysis"
   ]
  },
  {
   "cell_type": "markdown",
   "metadata": {},
   "source": [
    "#### Importing NRC Emotion Lexicon"
   ]
  },
  {
   "cell_type": "markdown",
   "metadata": {},
   "source": [
    "Download compressed file from http://saifmohammad.com/WebPages/NRC-Emotion-Lexicon.htm\n",
    "\n",
    "Move the relevant text-file to the directory"
   ]
  },
  {
   "cell_type": "code",
   "execution_count": 8,
   "metadata": {},
   "outputs": [
    {
     "data": {
      "text/html": [
       "<div>\n",
       "<style scoped>\n",
       "    .dataframe tbody tr th:only-of-type {\n",
       "        vertical-align: middle;\n",
       "    }\n",
       "\n",
       "    .dataframe tbody tr th {\n",
       "        vertical-align: top;\n",
       "    }\n",
       "\n",
       "    .dataframe thead th {\n",
       "        text-align: right;\n",
       "    }\n",
       "</style>\n",
       "<table border=\"1\" class=\"dataframe\">\n",
       "  <thead>\n",
       "    <tr style=\"text-align: right;\">\n",
       "      <th>emotion</th>\n",
       "      <th>word</th>\n",
       "      <th>anger</th>\n",
       "      <th>anticipation</th>\n",
       "      <th>disgust</th>\n",
       "      <th>fear</th>\n",
       "      <th>joy</th>\n",
       "      <th>negative</th>\n",
       "      <th>positive</th>\n",
       "      <th>sadness</th>\n",
       "      <th>surprise</th>\n",
       "      <th>trust</th>\n",
       "    </tr>\n",
       "  </thead>\n",
       "  <tbody>\n",
       "    <tr>\n",
       "      <th>0</th>\n",
       "      <td>aback</td>\n",
       "      <td>0</td>\n",
       "      <td>0</td>\n",
       "      <td>0</td>\n",
       "      <td>0</td>\n",
       "      <td>0</td>\n",
       "      <td>0</td>\n",
       "      <td>0</td>\n",
       "      <td>0</td>\n",
       "      <td>0</td>\n",
       "      <td>0</td>\n",
       "    </tr>\n",
       "    <tr>\n",
       "      <th>1</th>\n",
       "      <td>abacus</td>\n",
       "      <td>0</td>\n",
       "      <td>0</td>\n",
       "      <td>0</td>\n",
       "      <td>0</td>\n",
       "      <td>0</td>\n",
       "      <td>0</td>\n",
       "      <td>0</td>\n",
       "      <td>0</td>\n",
       "      <td>0</td>\n",
       "      <td>1</td>\n",
       "    </tr>\n",
       "    <tr>\n",
       "      <th>2</th>\n",
       "      <td>abandon</td>\n",
       "      <td>0</td>\n",
       "      <td>0</td>\n",
       "      <td>0</td>\n",
       "      <td>1</td>\n",
       "      <td>0</td>\n",
       "      <td>1</td>\n",
       "      <td>0</td>\n",
       "      <td>1</td>\n",
       "      <td>0</td>\n",
       "      <td>0</td>\n",
       "    </tr>\n",
       "    <tr>\n",
       "      <th>3</th>\n",
       "      <td>abandoned</td>\n",
       "      <td>1</td>\n",
       "      <td>0</td>\n",
       "      <td>0</td>\n",
       "      <td>1</td>\n",
       "      <td>0</td>\n",
       "      <td>1</td>\n",
       "      <td>0</td>\n",
       "      <td>1</td>\n",
       "      <td>0</td>\n",
       "      <td>0</td>\n",
       "    </tr>\n",
       "    <tr>\n",
       "      <th>4</th>\n",
       "      <td>abandonment</td>\n",
       "      <td>1</td>\n",
       "      <td>0</td>\n",
       "      <td>0</td>\n",
       "      <td>1</td>\n",
       "      <td>0</td>\n",
       "      <td>1</td>\n",
       "      <td>0</td>\n",
       "      <td>1</td>\n",
       "      <td>1</td>\n",
       "      <td>0</td>\n",
       "    </tr>\n",
       "  </tbody>\n",
       "</table>\n",
       "</div>"
      ],
      "text/plain": [
       "emotion         word  anger  anticipation  disgust  fear  joy  negative  \\\n",
       "0              aback      0             0        0     0    0         0   \n",
       "1             abacus      0             0        0     0    0         0   \n",
       "2            abandon      0             0        0     1    0         1   \n",
       "3          abandoned      1             0        0     1    0         1   \n",
       "4        abandonment      1             0        0     1    0         1   \n",
       "\n",
       "emotion  positive  sadness  surprise  trust  \n",
       "0               0        0         0      0  \n",
       "1               0        0         0      1  \n",
       "2               0        1         0      0  \n",
       "3               0        1         0      0  \n",
       "4               0        1         1      0  "
      ]
     },
     "execution_count": 8,
     "metadata": {},
     "output_type": "execute_result"
    }
   ],
   "source": [
    "filepath = \"NRC-Emotion-Lexicon-Wordlevel-v0.92.txt\"\n",
    "emolex_df = pd.read_csv(filepath,  names = [\"word\", \"emotion\", \"association\"], sep = \"\\t\", keep_default_na = False)\n",
    "emolex_df = emolex_df.pivot(index = \"word\", columns = \"emotion\", values = \"association\").reset_index()\n",
    "emolex_df.head()"
   ]
  },
  {
   "cell_type": "markdown",
   "metadata": {},
   "source": [
    "#### Calculating share of words using TfidfVectorizer"
   ]
  },
  {
   "cell_type": "code",
   "execution_count": 9,
   "metadata": {},
   "outputs": [
    {
     "data": {
      "text/html": [
       "<div>\n",
       "<style scoped>\n",
       "    .dataframe tbody tr th:only-of-type {\n",
       "        vertical-align: middle;\n",
       "    }\n",
       "\n",
       "    .dataframe tbody tr th {\n",
       "        vertical-align: top;\n",
       "    }\n",
       "\n",
       "    .dataframe thead th {\n",
       "        text-align: right;\n",
       "    }\n",
       "</style>\n",
       "<table border=\"1\" class=\"dataframe\">\n",
       "  <thead>\n",
       "    <tr style=\"text-align: right;\">\n",
       "      <th></th>\n",
       "      <th>aback</th>\n",
       "      <th>abacus</th>\n",
       "      <th>abandon</th>\n",
       "      <th>abandoned</th>\n",
       "      <th>abandonment</th>\n",
       "      <th>abate</th>\n",
       "      <th>abatement</th>\n",
       "      <th>abba</th>\n",
       "      <th>abbot</th>\n",
       "      <th>abbreviate</th>\n",
       "      <th>...</th>\n",
       "      <th>zephyr</th>\n",
       "      <th>zeppelin</th>\n",
       "      <th>zest</th>\n",
       "      <th>zip</th>\n",
       "      <th>zodiac</th>\n",
       "      <th>zone</th>\n",
       "      <th>zoo</th>\n",
       "      <th>zoological</th>\n",
       "      <th>zoology</th>\n",
       "      <th>zoom</th>\n",
       "    </tr>\n",
       "  </thead>\n",
       "  <tbody>\n",
       "    <tr>\n",
       "      <th>0</th>\n",
       "      <td>0.0</td>\n",
       "      <td>0.0</td>\n",
       "      <td>0.000000</td>\n",
       "      <td>0.0</td>\n",
       "      <td>0.0</td>\n",
       "      <td>0.0</td>\n",
       "      <td>0.0</td>\n",
       "      <td>0.0</td>\n",
       "      <td>0.0</td>\n",
       "      <td>0.0</td>\n",
       "      <td>...</td>\n",
       "      <td>0.0</td>\n",
       "      <td>0.0</td>\n",
       "      <td>0.0</td>\n",
       "      <td>0.0</td>\n",
       "      <td>0.0</td>\n",
       "      <td>0.00105</td>\n",
       "      <td>0.0</td>\n",
       "      <td>0.0</td>\n",
       "      <td>0.0</td>\n",
       "      <td>0.0</td>\n",
       "    </tr>\n",
       "    <tr>\n",
       "      <th>1</th>\n",
       "      <td>0.0</td>\n",
       "      <td>0.0</td>\n",
       "      <td>0.000000</td>\n",
       "      <td>0.0</td>\n",
       "      <td>0.0</td>\n",
       "      <td>0.0</td>\n",
       "      <td>0.0</td>\n",
       "      <td>0.0</td>\n",
       "      <td>0.0</td>\n",
       "      <td>0.0</td>\n",
       "      <td>...</td>\n",
       "      <td>0.0</td>\n",
       "      <td>0.0</td>\n",
       "      <td>0.0</td>\n",
       "      <td>0.0</td>\n",
       "      <td>0.0</td>\n",
       "      <td>0.00000</td>\n",
       "      <td>0.0</td>\n",
       "      <td>0.0</td>\n",
       "      <td>0.0</td>\n",
       "      <td>0.0</td>\n",
       "    </tr>\n",
       "    <tr>\n",
       "      <th>2</th>\n",
       "      <td>0.0</td>\n",
       "      <td>0.0</td>\n",
       "      <td>0.000000</td>\n",
       "      <td>0.0</td>\n",
       "      <td>0.0</td>\n",
       "      <td>0.0</td>\n",
       "      <td>0.0</td>\n",
       "      <td>0.0</td>\n",
       "      <td>0.0</td>\n",
       "      <td>0.0</td>\n",
       "      <td>...</td>\n",
       "      <td>0.0</td>\n",
       "      <td>0.0</td>\n",
       "      <td>0.0</td>\n",
       "      <td>0.0</td>\n",
       "      <td>0.0</td>\n",
       "      <td>0.00000</td>\n",
       "      <td>0.0</td>\n",
       "      <td>0.0</td>\n",
       "      <td>0.0</td>\n",
       "      <td>0.0</td>\n",
       "    </tr>\n",
       "    <tr>\n",
       "      <th>3</th>\n",
       "      <td>0.0</td>\n",
       "      <td>0.0</td>\n",
       "      <td>0.000000</td>\n",
       "      <td>0.0</td>\n",
       "      <td>0.0</td>\n",
       "      <td>0.0</td>\n",
       "      <td>0.0</td>\n",
       "      <td>0.0</td>\n",
       "      <td>0.0</td>\n",
       "      <td>0.0</td>\n",
       "      <td>...</td>\n",
       "      <td>0.0</td>\n",
       "      <td>0.0</td>\n",
       "      <td>0.0</td>\n",
       "      <td>0.0</td>\n",
       "      <td>0.0</td>\n",
       "      <td>0.00000</td>\n",
       "      <td>0.0</td>\n",
       "      <td>0.0</td>\n",
       "      <td>0.0</td>\n",
       "      <td>0.0</td>\n",
       "    </tr>\n",
       "    <tr>\n",
       "      <th>4</th>\n",
       "      <td>0.0</td>\n",
       "      <td>0.0</td>\n",
       "      <td>0.000604</td>\n",
       "      <td>0.0</td>\n",
       "      <td>0.0</td>\n",
       "      <td>0.0</td>\n",
       "      <td>0.0</td>\n",
       "      <td>0.0</td>\n",
       "      <td>0.0</td>\n",
       "      <td>0.0</td>\n",
       "      <td>...</td>\n",
       "      <td>0.0</td>\n",
       "      <td>0.0</td>\n",
       "      <td>0.0</td>\n",
       "      <td>0.0</td>\n",
       "      <td>0.0</td>\n",
       "      <td>0.00000</td>\n",
       "      <td>0.0</td>\n",
       "      <td>0.0</td>\n",
       "      <td>0.0</td>\n",
       "      <td>0.0</td>\n",
       "    </tr>\n",
       "  </tbody>\n",
       "</table>\n",
       "<p>5 rows × 14154 columns</p>\n",
       "</div>"
      ],
      "text/plain": [
       "   aback  abacus   abandon  abandoned  abandonment  abate  abatement  abba  \\\n",
       "0    0.0     0.0  0.000000        0.0          0.0    0.0        0.0   0.0   \n",
       "1    0.0     0.0  0.000000        0.0          0.0    0.0        0.0   0.0   \n",
       "2    0.0     0.0  0.000000        0.0          0.0    0.0        0.0   0.0   \n",
       "3    0.0     0.0  0.000000        0.0          0.0    0.0        0.0   0.0   \n",
       "4    0.0     0.0  0.000604        0.0          0.0    0.0        0.0   0.0   \n",
       "\n",
       "   abbot  abbreviate  ...  zephyr  zeppelin  zest  zip  zodiac     zone  zoo  \\\n",
       "0    0.0         0.0  ...     0.0       0.0   0.0  0.0     0.0  0.00105  0.0   \n",
       "1    0.0         0.0  ...     0.0       0.0   0.0  0.0     0.0  0.00000  0.0   \n",
       "2    0.0         0.0  ...     0.0       0.0   0.0  0.0     0.0  0.00000  0.0   \n",
       "3    0.0         0.0  ...     0.0       0.0   0.0  0.0     0.0  0.00000  0.0   \n",
       "4    0.0         0.0  ...     0.0       0.0   0.0  0.0     0.0  0.00000  0.0   \n",
       "\n",
       "   zoological  zoology  zoom  \n",
       "0         0.0      0.0   0.0  \n",
       "1         0.0      0.0   0.0  \n",
       "2         0.0      0.0   0.0  \n",
       "3         0.0      0.0   0.0  \n",
       "4         0.0      0.0   0.0  \n",
       "\n",
       "[5 rows x 14154 columns]"
      ]
     },
     "execution_count": 9,
     "metadata": {},
     "output_type": "execute_result"
    }
   ],
   "source": [
    "from sklearn.feature_extraction.text import TfidfVectorizer\n",
    "\n",
    "vec = TfidfVectorizer(vocabulary = emolex_df.word, use_idf = False, norm = \"l1\") \n",
    "matrix = vec.fit_transform(speeches_df.text)\n",
    "vocab = vec.get_feature_names()\n",
    "wordcount_df = pd.DataFrame(matrix.toarray(), columns = vocab)\n",
    "wordcount_df.head()"
   ]
  },
  {
   "cell_type": "markdown",
   "metadata": {},
   "source": [
    "#### Applying EmoLex"
   ]
  },
  {
   "cell_type": "markdown",
   "metadata": {},
   "source": [
    "The words which appear per category in the NRC Emotion Lexicon dictionary are identified and their shares are added up. The sum gives the total share of the document that relates to a particular emotion or sentiment. For instance say a document has two \"angry\" words each making up 0.01 of the text, then the anger-factor as it were of the text is 0.02 (= 0.01 + 0.01). "
   ]
  },
  {
   "cell_type": "code",
   "execution_count": 10,
   "metadata": {},
   "outputs": [],
   "source": [
    "### identifies all negative words\n",
    "neg_words = emolex_df[emolex_df.negative == 1][\"word\"]\n",
    "### adds up shares of negative words\n",
    "speeches_df[\"negative\"] = wordcount_df[neg_words].sum(axis = 1)\n",
    "\n",
    "### the above process is repeated per sentiment\n",
    "\n",
    "pos_words = emolex_df[emolex_df.positive == 1][\"word\"]\n",
    "speeches_df[\"positive\"] = wordcount_df[pos_words].sum(axis = 1)\n",
    "\n",
    "angry_words = emolex_df[emolex_df.anger == 1][\"word\"]\n",
    "speeches_df[\"anger\"] = wordcount_df[angry_words].sum(axis = 1)\n",
    "\n",
    "anticip_words = emolex_df[emolex_df.anticipation == 1][\"word\"]\n",
    "speeches_df[\"anticipation\"] = wordcount_df[anticip_words].sum(axis = 1)\n",
    "\n",
    "disgust_words = emolex_df[emolex_df.disgust == 1][\"word\"]\n",
    "speeches_df[\"disgust\"] = wordcount_df[disgust_words].sum(axis = 1)\n",
    "\n",
    "fear_words = emolex_df[emolex_df.fear == 1][\"word\"]\n",
    "speeches_df[\"fear\"] = wordcount_df[fear_words].sum(axis = 1)\n",
    "\n",
    "joy_words = emolex_df[emolex_df.joy == 1][\"word\"]\n",
    "speeches_df[\"joy\"] = wordcount_df[joy_words].sum(axis = 1)\n",
    "\n",
    "sad_words = emolex_df[emolex_df.sadness == 1][\"word\"]\n",
    "speeches_df[\"sadness\"] = wordcount_df[sad_words].sum(axis = 1)\n",
    "\n",
    "surprise_words = emolex_df[emolex_df.surprise == 1][\"word\"]\n",
    "speeches_df[\"surprise\"] = wordcount_df[surprise_words].sum(axis = 1)\n",
    "\n",
    "trust_words = emolex_df[emolex_df.trust == 1][\"word\"]\n",
    "speeches_df[\"trust\"] = wordcount_df[trust_words].sum(axis = 1)"
   ]
  },
  {
   "cell_type": "code",
   "execution_count": 11,
   "metadata": {},
   "outputs": [
    {
     "data": {
      "text/html": [
       "<div>\n",
       "<style scoped>\n",
       "    .dataframe tbody tr th:only-of-type {\n",
       "        vertical-align: middle;\n",
       "    }\n",
       "\n",
       "    .dataframe tbody tr th {\n",
       "        vertical-align: top;\n",
       "    }\n",
       "\n",
       "    .dataframe thead th {\n",
       "        text-align: right;\n",
       "    }\n",
       "</style>\n",
       "<table border=\"1\" class=\"dataframe\">\n",
       "  <thead>\n",
       "    <tr style=\"text-align: right;\">\n",
       "      <th></th>\n",
       "      <th>text</th>\n",
       "      <th>filename</th>\n",
       "      <th>year</th>\n",
       "      <th>pres</th>\n",
       "      <th>negative</th>\n",
       "      <th>positive</th>\n",
       "      <th>anger</th>\n",
       "      <th>anticipation</th>\n",
       "      <th>disgust</th>\n",
       "      <th>fear</th>\n",
       "      <th>joy</th>\n",
       "      <th>sadness</th>\n",
       "      <th>surprise</th>\n",
       "      <th>trust</th>\n",
       "    </tr>\n",
       "  </thead>\n",
       "  <tbody>\n",
       "    <tr>\n",
       "      <th>0</th>\n",
       "      <td>Madam Speaker, Madam Vice President—no Preside...</td>\n",
       "      <td>sotu/04-28-2021.txt</td>\n",
       "      <td>2021</td>\n",
       "      <td>biden</td>\n",
       "      <td>0.132283</td>\n",
       "      <td>0.266142</td>\n",
       "      <td>0.058268</td>\n",
       "      <td>0.114961</td>\n",
       "      <td>0.034646</td>\n",
       "      <td>0.087664</td>\n",
       "      <td>0.080315</td>\n",
       "      <td>0.061942</td>\n",
       "      <td>0.039370</td>\n",
       "      <td>0.167454</td>\n",
       "    </tr>\n",
       "    <tr>\n",
       "      <th>1</th>\n",
       "      <td>Madam Speaker, Vice President Biden, Members o...</td>\n",
       "      <td>sotu/01-27-2010.txt</td>\n",
       "      <td>2010</td>\n",
       "      <td>obama</td>\n",
       "      <td>0.141074</td>\n",
       "      <td>0.241997</td>\n",
       "      <td>0.056430</td>\n",
       "      <td>0.102550</td>\n",
       "      <td>0.038524</td>\n",
       "      <td>0.083017</td>\n",
       "      <td>0.083559</td>\n",
       "      <td>0.066196</td>\n",
       "      <td>0.039067</td>\n",
       "      <td>0.167119</td>\n",
       "    </tr>\n",
       "    <tr>\n",
       "      <th>2</th>\n",
       "      <td>Mr. Speaker, Mr. Vice President, Members of Co...</td>\n",
       "      <td>sotu/01-12-2016.txt</td>\n",
       "      <td>2016</td>\n",
       "      <td>obama</td>\n",
       "      <td>0.119947</td>\n",
       "      <td>0.273028</td>\n",
       "      <td>0.074884</td>\n",
       "      <td>0.111332</td>\n",
       "      <td>0.031809</td>\n",
       "      <td>0.098078</td>\n",
       "      <td>0.098078</td>\n",
       "      <td>0.065606</td>\n",
       "      <td>0.054341</td>\n",
       "      <td>0.184228</td>\n",
       "    </tr>\n",
       "    <tr>\n",
       "      <th>3</th>\n",
       "      <td>Madam Speaker, Mr. Vice President, Members of ...</td>\n",
       "      <td>sotu/02-24-2009.txt</td>\n",
       "      <td>2009</td>\n",
       "      <td>obama</td>\n",
       "      <td>0.133794</td>\n",
       "      <td>0.238065</td>\n",
       "      <td>0.052764</td>\n",
       "      <td>0.108668</td>\n",
       "      <td>0.042085</td>\n",
       "      <td>0.081658</td>\n",
       "      <td>0.067839</td>\n",
       "      <td>0.059673</td>\n",
       "      <td>0.029523</td>\n",
       "      <td>0.175251</td>\n",
       "    </tr>\n",
       "    <tr>\n",
       "      <th>4</th>\n",
       "      <td>Mr. Speaker, Mr. Vice President, Members of Co...</td>\n",
       "      <td>sotu/01-20-2015.txt</td>\n",
       "      <td>2015</td>\n",
       "      <td>obama</td>\n",
       "      <td>0.111111</td>\n",
       "      <td>0.254831</td>\n",
       "      <td>0.052536</td>\n",
       "      <td>0.115338</td>\n",
       "      <td>0.035628</td>\n",
       "      <td>0.073671</td>\n",
       "      <td>0.076087</td>\n",
       "      <td>0.048913</td>\n",
       "      <td>0.048913</td>\n",
       "      <td>0.162440</td>\n",
       "    </tr>\n",
       "  </tbody>\n",
       "</table>\n",
       "</div>"
      ],
      "text/plain": [
       "                                                text             filename  \\\n",
       "0  Madam Speaker, Madam Vice President—no Preside...  sotu/04-28-2021.txt   \n",
       "1  Madam Speaker, Vice President Biden, Members o...  sotu/01-27-2010.txt   \n",
       "2  Mr. Speaker, Mr. Vice President, Members of Co...  sotu/01-12-2016.txt   \n",
       "3  Madam Speaker, Mr. Vice President, Members of ...  sotu/02-24-2009.txt   \n",
       "4  Mr. Speaker, Mr. Vice President, Members of Co...  sotu/01-20-2015.txt   \n",
       "\n",
       "   year   pres  negative  positive     anger  anticipation   disgust  \\\n",
       "0  2021  biden  0.132283  0.266142  0.058268      0.114961  0.034646   \n",
       "1  2010  obama  0.141074  0.241997  0.056430      0.102550  0.038524   \n",
       "2  2016  obama  0.119947  0.273028  0.074884      0.111332  0.031809   \n",
       "3  2009  obama  0.133794  0.238065  0.052764      0.108668  0.042085   \n",
       "4  2015  obama  0.111111  0.254831  0.052536      0.115338  0.035628   \n",
       "\n",
       "       fear       joy   sadness  surprise     trust  \n",
       "0  0.087664  0.080315  0.061942  0.039370  0.167454  \n",
       "1  0.083017  0.083559  0.066196  0.039067  0.167119  \n",
       "2  0.098078  0.098078  0.065606  0.054341  0.184228  \n",
       "3  0.081658  0.067839  0.059673  0.029523  0.175251  \n",
       "4  0.073671  0.076087  0.048913  0.048913  0.162440  "
      ]
     },
     "execution_count": 11,
     "metadata": {},
     "output_type": "execute_result"
    }
   ],
   "source": [
    "### displays final dataframe\n",
    "speeches_df.head()"
   ]
  },
  {
   "cell_type": "markdown",
   "metadata": {},
   "source": [
    "#### Exporting the dataset"
   ]
  },
  {
   "cell_type": "code",
   "execution_count": 12,
   "metadata": {},
   "outputs": [],
   "source": [
    "speeches_df.to_csv(\"sotu_analysis.csv\", index = False)"
   ]
  },
  {
   "cell_type": "markdown",
   "metadata": {},
   "source": [
    "#### Plotting the data"
   ]
  },
  {
   "cell_type": "markdown",
   "metadata": {},
   "source": [
    "##### Negativity by year"
   ]
  },
  {
   "cell_type": "code",
   "execution_count": 13,
   "metadata": {},
   "outputs": [
    {
     "data": {
      "text/plain": [
       "<matplotlib.axes._subplots.AxesSubplot at 0x7fb6decdf1f0>"
      ]
     },
     "execution_count": 13,
     "metadata": {},
     "output_type": "execute_result"
    },
    {
     "data": {
      "image/png": "[encoded data removed]",
      "text/plain": [
       "<Figure size 432x288 with 1 Axes>"
      ]
     },
     "metadata": {
      "needs_background": "light"
     },
     "output_type": "display_data"
    }
   ],
   "source": [
    "speeches_df.plot(title = \"negativity by year\", x = \"year\", y = \"negative\", kind = \"scatter\", s = 40)"
   ]
  },
  {
   "cell_type": "markdown",
   "metadata": {},
   "source": [
    "##### Positivity by year"
   ]
  },
  {
   "cell_type": "code",
   "execution_count": 14,
   "metadata": {},
   "outputs": [
    {
     "data": {
      "text/plain": [
       "<matplotlib.axes._subplots.AxesSubplot at 0x7fb6dde0e6a0>"
      ]
     },
     "execution_count": 14,
     "metadata": {},
     "output_type": "execute_result"
    },
    {
     "data": {
      "image/png": "[encoded data removed]",
      "text/plain": [
       "<Figure size 432x288 with 1 Axes>"
      ]
     },
     "metadata": {
      "needs_background": "light"
     },
     "output_type": "display_data"
    }
   ],
   "source": [
    "speeches_df.plot(title = \"positivity by year\", x = \"year\", y = \"positive\", kind = \"scatter\", s = 40)"
   ]
  },
  {
   "cell_type": "markdown",
   "metadata": {},
   "source": [
    "##### Anger by year"
   ]
  },
  {
   "cell_type": "code",
   "execution_count": 15,
   "metadata": {},
   "outputs": [
    {
     "data": {
      "text/plain": [
       "<matplotlib.axes._subplots.AxesSubplot at 0x7fb6de157fa0>"
      ]
     },
     "execution_count": 15,
     "metadata": {},
     "output_type": "execute_result"
    },
    {
     "data": {
      "image/png": "[encoded data removed]",
      "text/plain": [
       "<Figure size 432x288 with 1 Axes>"
      ]
     },
     "metadata": {
      "needs_background": "light"
     },
     "output_type": "display_data"
    }
   ],
   "source": [
    "speeches_df.plot(title = \"anger by year\", x = \"year\", y = \"anger\", kind = \"scatter\", s = 40)"
   ]
  },
  {
   "cell_type": "markdown",
   "metadata": {},
   "source": [
    "#### Note: \n",
    "The same plots can be drawn with other variables like positivity vs. negativity, anger vs. fear and so on. "
   ]
  }
 ],
 "metadata": {
  "kernelspec": {
   "display_name": "Python 3",
   "language": "python",
   "name": "python3"
  },
  "language_info": {
   "codemirror_mode": {
    "name": "ipython",
    "version": 3
   },
   "file_extension": ".py",
   "mimetype": "text/x-python",
   "name": "python",
   "nbconvert_exporter": "python",
   "pygments_lexer": "ipython3",
   "version": "3.8.3"
  }
 },
 "nbformat": 4,
 "nbformat_minor": 4
}
